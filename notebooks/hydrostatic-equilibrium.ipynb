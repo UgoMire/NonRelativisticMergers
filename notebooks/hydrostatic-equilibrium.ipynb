{
 "cells": [
  {
   "cell_type": "markdown",
   "metadata": {},
   "source": [
    "# Hydrostatic Equilibrium Solver"
   ]
  },
  {
   "cell_type": "code",
   "execution_count": 20,
   "metadata": {},
   "outputs": [
    {
     "name": "stderr",
     "output_type": "stream",
     "text": [
      "\u001b[32m\u001b[1m  Activating\u001b[22m\u001b[39m project at `~/gitrep/NonRelativisticMergers`\n"
     ]
    }
   ],
   "source": [
    "using Pkg\n",
    "Pkg.activate(\"..\")\n",
    "\n",
    "using GLMakie\n",
    "using NonRelativisticMergers\n",
    "using LinearAlgebra\n",
    "using LinearSolve\n",
    "using NonlinearSolve\n",
    "\n",
    "import NonRelativisticMergers: solve_poisson"
   ]
  },
  {
   "cell_type": "markdown",
   "metadata": {},
   "source": [
    "**Goal:** Solve the hydrostatic equation\n",
    "$$\n",
    "\\nabla P = - \\rho \\nabla \\phi \\; ,\n",
    "$$\n",
    "numerically. This will be needed to obtain the initial condition for the merger simulation.\n",
    "\n",
    "We start from some density distribution $\\rho(x)$ and find the gravitational potential $\\phi(x)$ by solving the Poisson equation\n",
    "$$\n",
    "\\nabla^2 \\phi = 4\\pi G \\rho \\; .\n",
    "$$"
   ]
  },
  {
   "cell_type": "markdown",
   "metadata": {},
   "source": [
    "### 1d case\n",
    "\n",
    "In 1d we have to solve\n",
    "$$\n",
    "\\partial_x P(x) = - \\rho(x) \\partial_x \\phi(x) \\; .\n",
    "$$\n",
    "\n",
    "We could solve this by direct integration, but this will not be possible for the 2d case. Instead we can use finite difference and a non-linear solver to find the expression of $P(x)$. "
   ]
  },
  {
   "cell_type": "code",
   "execution_count": 33,
   "metadata": {},
   "outputs": [],
   "source": [
    "(; xl, Nx) = gd = Grid1D(; xmin=-1, xmax=1, Nx=500)\n",
    "prob = FDProblem(gd, EulerSelfGravity(), KT(), HLLC())\n",
    "\n",
    "ρ = [0.1 + 1.8 * exp(-100 * x^2) for x in xl]\n",
    "ϕ = solve_poisson(prob, ρ);"
   ]
  },
  {
   "cell_type": "code",
   "execution_count": 34,
   "metadata": {},
   "outputs": [],
   "source": [
    "∇x = Matrix(Tridiagonal(ones(Nx - 1), zeros(Nx), -ones(Nx - 1)))\n",
    "∇x[1, Nx] = 1\n",
    "∇x[Nx, 1] = -1\n",
    "\n",
    "∇ϕ = ∇x * ϕ;"
   ]
  },
  {
   "cell_type": "code",
   "execution_count": 37,
   "metadata": {},
   "outputs": [
    {
     "data": {
      "text/plain": [
       "500-element Vector{Float64}:\n",
       " -0.006379837479297162\n",
       " -0.006379833798117487\n",
       " -0.006379826429842946\n",
       " -0.006379815362636525\n",
       " -0.006379800578716267\n",
       " -0.006379782054330686\n",
       " -0.006379759759717205\n",
       " -0.006379733659057125\n",
       " -0.006379703710415471\n",
       " -0.006379669865676651\n",
       "  ⋮\n",
       " -0.00637970371041575\n",
       " -0.006379733659056898\n",
       " -0.006379759759717407\n",
       " -0.006379782054330513\n",
       " -0.006379800578716566\n",
       " -0.006379815362636275\n",
       " -0.006379826429843247\n",
       " -0.006379833798117204\n",
       " -0.00637983747929745"
      ]
     },
     "metadata": {},
     "output_type": "display_data"
    }
   ],
   "source": [
    "nlprob = NonlinearProblem((P, _) -> ∇x * P .+ ρ .* ∇ϕ, zeros(Nx))\n",
    "nlsol = NonlinearSolve.solve(nlprob)\n",
    "P = nlsol.u"
   ]
  },
  {
   "cell_type": "code",
   "execution_count": 35,
   "metadata": {},
   "outputs": [
    {
     "data": {
      "text/plain": [
       "500-element Vector{Float64}:\n",
       " -0.006372686045867099\n",
       " -0.007320575341375153\n",
       " -0.0063726749964128845\n",
       " -0.007320556905894192\n",
       " -0.006372649145286201\n",
       " -0.007320523597588339\n",
       " -0.006372608326287138\n",
       " -0.00732047520231479\n",
       " -0.00637255227698541\n",
       " -0.007320411408934319\n",
       "  ⋮\n",
       " -0.0073204452536734105\n",
       " -0.006372582225626835\n",
       " -0.0073205013029750705\n",
       " -0.006372630620900453\n",
       " -0.007320542121974229\n",
       " -0.006372663929206213\n",
       " -0.007320567973100909\n",
       " -0.006372682364687143\n",
       " -0.007320579022555118"
      ]
     },
     "metadata": {},
     "output_type": "display_data"
    }
   ],
   "source": [
    "lalg = SVDFactorization()\n",
    "# lalg = QRFactorization()\n",
    "\n",
    "lprob = LinearProblem(∇x, -ρ .* ∇ϕ)\n",
    "lsol = LinearSolve.solve(lprob, lalg)\n",
    "P = lsol.u"
   ]
  },
  {
   "cell_type": "code",
   "execution_count": 38,
   "metadata": {},
   "outputs": [],
   "source": [
    "f = lines(ρ, label=\"rho\")\n",
    "lines!(ϕ, label=\"phi\")\n",
    "lines!(P, label=\"P\")\n",
    "axislegend()\n",
    "f"
   ]
  },
  {
   "cell_type": "markdown",
   "metadata": {},
   "source": [
    "### 2d case\n",
    "\n",
    "In 2d we have to solve the following equations for $P(x,y)$\n",
    "$$\n",
    "\\begin{cases}\n",
    "    \\partial_x P(x,y) + \\rho(x,y) \\partial_x \\phi(x,y) = 0 \\; , \\\\\n",
    "    \\partial_y P(x,y) + \\rho(x,y) \\partial_y \\phi(x,y) = 0 \\; .\n",
    "\\end{cases}\n",
    "$$"
   ]
  },
  {
   "cell_type": "code",
   "execution_count": 27,
   "metadata": {},
   "outputs": [
    {
     "data": {
      "text/plain": [
       "solve_hydrostatic (generic function with 1 method)"
      ]
     },
     "metadata": {},
     "output_type": "display_data"
    }
   ],
   "source": [
    "\n",
    "function solve_hydrostatic(gd::Grid1D, ρ, ϕ)\n",
    "    (; Nx) = gd\n",
    "\n",
    "    P = zeros(size(ρ))\n",
    "\n",
    "    ∇x = Matrix(Tridiagonal(ones(Nx - 1), zeros(Nx), -ones(Nx - 1)))\n",
    "    ∇x[1, Nx] = 1\n",
    "    ∇x[Nx, 1] = -1\n",
    "\n",
    "    return P\n",
    "end"
   ]
  },
  {
   "cell_type": "code",
   "execution_count": 5,
   "metadata": {},
   "outputs": [],
   "source": [
    "(; xl, yl, Nx) = gd = Grid2D(; xmin=-2, xmax=2, ymin=-2, ymax=2, Nx=100, Ny=100)\n",
    "prob = FDProblem(gd, EulerSelfGravity(), KT(), HLLC())\n",
    "\n",
    "ρ = [0.0 + exp(-10 * (x^2 + y^2)) for x in xl, y in yl]\n",
    "ϕ = solve_poisson(prob, ρ);"
   ]
  },
  {
   "cell_type": "code",
   "execution_count": 3,
   "metadata": {},
   "outputs": [],
   "source": [
    "f = Figure()\n",
    "Axis(f[1, 1])\n",
    "heatmap!(xl, yl, ρ)\n",
    "Axis(f[1, 2])\n",
    "heatmap!(xl, yl, ϕ)\n",
    "# Axis(f[1, 3])\n",
    "# heatmap!(xl, yl, P)\n",
    "f"
   ]
  }
 ],
 "metadata": {
  "kernelspec": {
   "display_name": "Julia 1.10.4",
   "language": "julia",
   "name": "julia-1.10"
  },
  "language_info": {
   "file_extension": ".jl",
   "mimetype": "application/julia",
   "name": "julia",
   "version": "1.10.4"
  }
 },
 "nbformat": 4,
 "nbformat_minor": 2
}

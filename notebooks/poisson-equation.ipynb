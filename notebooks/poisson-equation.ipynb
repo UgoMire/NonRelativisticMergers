{
 "cells": [
  {
   "cell_type": "markdown",
   "metadata": {},
   "source": [
    "# Poisson Equation\n",
    "\n",
    "**Goal:** give details for solving the Poisson equation numerically for an arbitray potential. \n",
    "\n",
    "The Poisson equation reads\n",
    "$$\n",
    "\\nabla^2 \\phi(x) = 4\\pi \\rho(x)\n",
    "$$"
   ]
  },
  {
   "cell_type": "markdown",
   "metadata": {},
   "source": [
    "## Fast-Fourier Transform\n",
    "\n",
    "For periodic boundary condition it is conveniant to solve the Poisson equation using Fourier transform."
   ]
  },
  {
   "cell_type": "code",
   "execution_count": 12,
   "metadata": {},
   "outputs": [
    {
     "data": {
      "text/plain": [
       "100-element Vector{Float64}:\n",
       " 3.737571327944256e-11\n",
       " 9.859505575991516e-11\n",
       " 2.549381880391969e-10\n",
       " 6.461431773106108e-10\n",
       " 1.6052280551856116e-9\n",
       " 3.908938434264864e-9\n",
       " 9.330287574504972e-9\n",
       " 2.182957795125478e-8\n",
       " 5.006218020767049e-8\n",
       " 1.1253517471925912e-7\n",
       " ⋮\n",
       " 2.182957795125478e-8\n",
       " 9.330287574504972e-9\n",
       " 3.908938434264864e-9\n",
       " 1.6052280551856116e-9\n",
       " 6.461431773106108e-10\n",
       " 2.549381880391969e-10\n",
       " 9.859505575991516e-11\n",
       " 3.737571327944256e-11\n",
       " 1.3887943864964021e-11"
      ]
     },
     "metadata": {},
     "output_type": "display_data"
    }
   ],
   "source": [
    "using FFTW\n",
    "using GLMakie\n",
    "\n",
    "function poisson_solver_1d(f, Lx; G=1)\n",
    "    Nx = length(f)\n",
    "    dx = Lx / Nx\n",
    "\n",
    "    # Compute wave numbers\n",
    "    kx = 2π / Lx * [0:Nx/2; -Nx/2+1:-1]\n",
    "\n",
    "    # Compute Fourier coefficients of f\n",
    "    fh = fft(f)\n",
    "\n",
    "    # Compute Fourier coefficients of the solution\n",
    "    uh = zeros(ComplexF64, Nx)\n",
    "    for i in 1:Nx\n",
    "        if i != 1\n",
    "            uh[i] = -4π * G * fh[i] / kx[i]^2\n",
    "        end\n",
    "    end\n",
    "\n",
    "    # Compute the solution in real space\n",
    "    u = real(ifft(uh))\n",
    "\n",
    "    return u\n",
    "end\n",
    "\n",
    "Lx = 100\n",
    "f = [exp(-1e-2 * (x - 50)^2) for x in 1:Lx]"
   ]
  },
  {
   "cell_type": "code",
   "execution_count": 13,
   "metadata": {},
   "outputs": [],
   "source": [
    "ϕ = poisson_solver_1d(f, Lx; G = 1e-3)\n",
    "\n",
    "fig = lines(ϕ)\n",
    "lines!(f)\n",
    "fig"
   ]
  },
  {
   "cell_type": "code",
   "execution_count": 24,
   "metadata": {},
   "outputs": [],
   "source": [
    "function poisson_solver_2d(f, Lx, Ly; G=1e-3)\n",
    "    Nx, Ny = size(f)\n",
    "    dx = Lx / Nx\n",
    "    dy = Ly / Ny\n",
    "\n",
    "    # Compute wave numbers\n",
    "    kx = 2π / Lx * [0:Nx/2; -Nx/2+1:-1]\n",
    "    ky = 2π / Ly * [0:Ny/2; -Ny/2+1:-1]\n",
    "\n",
    "    # Compute Fourier coefficients of f\n",
    "    fh = fft(f)\n",
    "\n",
    "    # Compute Fourier coefficients of the solution\n",
    "    uh = zeros(ComplexF64, Nx, Ny)\n",
    "    for i in 1:Nx\n",
    "        for j in 1:Ny\n",
    "            if (i, j) != (1, 1)\n",
    "                uh[i, j] = fh[i, j] / (kx[i]^2 + ky[j]^2)\n",
    "            end\n",
    "        end\n",
    "    end\n",
    "\n",
    "    # Compute the solution in real space\n",
    "    u = real(ifft(uh))\n",
    "\n",
    "    return u\n",
    "end\n",
    "\n",
    "Lx = 100\n",
    "Ly = 100\n",
    "f = [exp(-1e-2 * ((x - 50)^2 + (y - 50)^2)) for x in 1:Lx, y in 1:Ly]\n",
    "\n",
    "heatmap(f)"
   ]
  },
  {
   "cell_type": "code",
   "execution_count": 25,
   "metadata": {},
   "outputs": [
    {
     "name": "stdout",
     "output_type": "stream",
     "text": [
      "size(ϕ) = (100, 100)\n"
     ]
    }
   ],
   "source": [
    "ϕ = poisson_solver(f, Lx, Ly)\n",
    "\n",
    "heatmap(ϕ)"
   ]
  }
 ],
 "metadata": {
  "kernelspec": {
   "display_name": "Julia 1.10.3",
   "language": "julia",
   "name": "julia-1.10"
  },
  "language_info": {
   "file_extension": ".jl",
   "mimetype": "application/julia",
   "name": "julia",
   "version": "1.10.3"
  }
 },
 "nbformat": 4,
 "nbformat_minor": 2
}

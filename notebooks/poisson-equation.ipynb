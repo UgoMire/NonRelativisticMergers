{
 "cells": [
  {
   "cell_type": "markdown",
   "metadata": {},
   "source": [
    "# Poisson Equation\n",
    "\n",
    "**Goal:** give details for solving the Poisson equation numerically for an arbitray potential. \n",
    "\n",
    "The Poisson equation reads\n",
    "$$\n",
    "\\nabla^2 \\phi(x) = 4\\pi \\rho(x)\n",
    "$$"
   ]
  },
  {
   "cell_type": "code",
   "execution_count": 1,
   "metadata": {},
   "outputs": [],
   "source": [
    "using FFTW\n",
    "using GLMakie\n",
    "using SpecialFunctions"
   ]
  },
  {
   "cell_type": "markdown",
   "metadata": {},
   "source": [
    "## Fast-Fourier Transform\n",
    "\n",
    "For periodic boundary condition it is conveniant to solve the Poisson equation using Fourier transform."
   ]
  },
  {
   "cell_type": "markdown",
   "metadata": {},
   "source": [
    "We want to solve the equation\n",
    "$$\n",
    "\\nabla^2 \\phi = 4\\pi G \\rho\n",
    "$$\n",
    "using the fast-Fourier transform.\n",
    "\n",
    "In momentum space the equation simply becomes\n",
    "$$\n",
    "\\phi(\\vec{p}) = - \\frac{4\\pi G}{\\vec{p}^{\\,2}} \\rho(\\vec{p}) \n",
    "$$\n",
    "which give the direct solution for $\\phi(x)$\n",
    "$$\n",
    "\\phi(x) = - \\int \\frac{d^dp}{(2\\pi)^d} \\frac{4\\pi G}{\\vec{p}^{\\,2}} \\rho(\\vec{p})\n",
    "$$"
   ]
  },
  {
   "cell_type": "code",
   "execution_count": 211,
   "metadata": {},
   "outputs": [
    {
     "data": {
      "text/plain": [
       "poisson_solve_3d (generic function with 1 method)"
      ]
     },
     "metadata": {},
     "output_type": "display_data"
    }
   ],
   "source": [
    "function poisson_solve_3d(ρ, (; Nx, dx), (; Ny, dy), (; Nz, dz))\n",
    "    kx = 2π * fftfreq(Nx, 1 / dx)\n",
    "    ky = 2π * fftfreq(Ny, 1 / dy)\n",
    "    kz = 2π * fftfreq(Nz, 1 / dz)\n",
    "\n",
    "    ρhat = fft(ρ)\n",
    "\n",
    "    uhat = zeros(Complex{Float64}, Nx, Ny, Nz)\n",
    "\n",
    "    for (i, kxi) in enumerate(kx), (j, kyj) in enumerate(ky), (k, kzk) in enumerate(kz)\n",
    "        if kxi == 0 && kyj == 0 && kzk == 0\n",
    "            uhat[i, j, k] = 0\n",
    "        else\n",
    "            uhat[i, j, k] = -4π * ρhat[i, j, k] / (kxi^2 + kyj^2 + kzk^2)\n",
    "        end\n",
    "    end\n",
    "\n",
    "    u = real(ifft(uhat))\n",
    "\n",
    "    return u\n",
    "end"
   ]
  },
  {
   "cell_type": "markdown",
   "metadata": {},
   "source": [
    "Setup the discretization and the initial problem"
   ]
  },
  {
   "cell_type": "code",
   "execution_count": 274,
   "metadata": {},
   "outputs": [],
   "source": [
    "xmin = 0\n",
    "xmax = 1\n",
    "Nx = 1000\n",
    "\n",
    "ymin = 0\n",
    "ymax = 1\n",
    "Ny = 100\n",
    "\n",
    "zmin = 0\n",
    "zmax = 1\n",
    "Nz = 100\n",
    "\n",
    "xl = range(xmin, xmax, Nx)\n",
    "yl = range(ymin, ymax, Ny)\n",
    "zl = range(zmin, zmax, Nz)\n",
    "\n",
    "dx = xl[2] - xl[1]\n",
    "dy = yl[2] - yl[1]\n",
    "dz = zl[2] - zl[1]\n",
    "\n",
    "x0 = xmin + (xmax - xmin) / 2\n",
    "y0 = ymin + (ymax - ymin) / 2\n",
    "\n",
    "ρ = zeros(Nx, Ny, Nz)\n",
    "α = 0.0001 # How close the density distribution matches a delta function.\n",
    "for (i, x) in enumerate(xl), (j, y) in enumerate(yl), (k, z) in enumerate(zl)\n",
    "    # ρ[i, j, k] = exp(-((x - x0)^2 + (y - y0)^2) / α) / (α * π)\n",
    "    ρ[i, j, k] = exp(-(x - x0)^2 / α) / sqrt(α * π)\n",
    "end"
   ]
  },
  {
   "cell_type": "markdown",
   "metadata": {},
   "source": [
    "Plot of the density distribution"
   ]
  },
  {
   "cell_type": "code",
   "execution_count": 1,
   "metadata": {},
   "outputs": [
    {
     "ename": "UndefVarError",
     "evalue": "UndefVarError: `ρ` not defined",
     "output_type": "error",
     "traceback": [
      "UndefVarError: `ρ` not defined\n",
      "\n",
      "Stacktrace:\n",
      " [1] top-level scope\n",
      "   @ ~/gitrep/NonRelativisticMergers/notebooks/jl_notebook_cell_df34fa98e69747e1a8f8a730347b8e2f_X10sZmlsZQ==.jl:3"
     ]
    }
   ],
   "source": [
    "# iz = Nz ÷ 2\n",
    "iz = 2\n",
    "contourf(ρ[:, :, iz])"
   ]
  },
  {
   "cell_type": "markdown",
   "metadata": {},
   "source": [
    "Solve the problem and plot the solution"
   ]
  },
  {
   "cell_type": "code",
   "execution_count": 275,
   "metadata": {},
   "outputs": [],
   "source": [
    "u = poisson_solve_3d(ρ, (; Nx, dx), (; Ny, dy), (; Nz, dz));"
   ]
  },
  {
   "cell_type": "code",
   "execution_count": 281,
   "metadata": {},
   "outputs": [],
   "source": [
    "uana = zeros(Nx, Ny, Nz)\n",
    "for (i, x) in enumerate(xl), (j, y) in enumerate(yl), (k, z) in enumerate(zl)\n",
    "    uana[i, j, k] = -1 / sqrt((x - x0)^2 + (y - y0)^2)\n",
    "    # uana[i, j, k] = -1 / sqrt((x - x0)^2)\n",
    "end\n",
    "\n",
    "iy = div(Ny, 2)\n",
    "iz = 3\n",
    "\n",
    "f = lines(xl, u[:, iy, iz], color=:blue)\n",
    "lines!(xl, uana[:, iy, iz], color=:red)\n",
    "ylims!(low=-2)\n",
    "f"
   ]
  },
  {
   "cell_type": "code",
   "execution_count": 201,
   "metadata": {},
   "outputs": [],
   "source": [
    "f, ax = surface(xl, yl, u[:, :, iz]; axis=(; type=Axis3))\n",
    "surface!(xl, yl, uana[:, :, iz])\n",
    "zlims!(-20, 1)\n",
    "f"
   ]
  },
  {
   "cell_type": "markdown",
   "metadata": {},
   "source": [
    "Plot the Fourier transform of $\\rho$."
   ]
  },
  {
   "cell_type": "code",
   "execution_count": 101,
   "metadata": {},
   "outputs": [],
   "source": [
    "ωx = fftfreq(Nx, 1 / dx) |> fftshift\n",
    "ωy = fftfreq(Ny, 1 / dy) |> fftshift\n",
    "\n",
    "ρhat = fft(ρ)\n",
    "ρplot = fftshift(ρhat) .|> abs\n",
    "\n",
    "iz = 6\n",
    "\n",
    "fig = Figure()\n",
    "ax = Axis(fig[1, 1])\n",
    "contourf!(xl, yl, ρ[:, :, iz])\n",
    "ax = Axis(fig[1, 2])\n",
    "contourf!(ωx, ωy, ρplot[:, :, iz])\n",
    "fig"
   ]
  },
  {
   "cell_type": "markdown",
   "metadata": {},
   "source": [
    "## Trying a pseudo-3D method"
   ]
  },
  {
   "cell_type": "code",
   "execution_count": 2,
   "metadata": {},
   "outputs": [
    {
     "data": {
      "text/plain": [
       "poisson_solve_3d (generic function with 1 method)"
      ]
     },
     "metadata": {},
     "output_type": "display_data"
    }
   ],
   "source": [
    "function poisson_solve_3d(ρ, (; Nx, dx), (; Ny, dy); ϵ=0.1, G=1)\n",
    "    kx = 2π * fftfreq(Nx, 1 / dx)\n",
    "    ky = 2π * fftfreq(Ny, 1 / dy)\n",
    "\n",
    "    ρhat = fft(ρ)\n",
    "\n",
    "    uhat = zeros(Complex{Float64}, Nx, Ny)\n",
    "\n",
    "    for (i, kxi) in enumerate(kx), (j, kyj) in enumerate(ky)\n",
    "        if kxi == 0 && kyj == 0\n",
    "            uhat[i, j] = 0\n",
    "        else\n",
    "            uhat[i, j] = -4π * G * ρhat[i, j] / (kxi^2 + kyj^2 + ϵ^2)\n",
    "        end\n",
    "    end\n",
    "\n",
    "    u = real(ifft(uhat))\n",
    "\n",
    "    return u\n",
    "end"
   ]
  },
  {
   "cell_type": "markdown",
   "metadata": {},
   "source": [
    "Setup the discretization and the initial problem"
   ]
  },
  {
   "cell_type": "code",
   "execution_count": 38,
   "metadata": {},
   "outputs": [],
   "source": [
    "xmin = 0\n",
    "xmax = 1\n",
    "Nx = 100\n",
    "\n",
    "ymin = 0\n",
    "ymax = 1\n",
    "Ny = 100\n",
    "\n",
    "xl = range(xmin, xmax, Nx)\n",
    "yl = range(ymin, ymax, Ny)\n",
    "\n",
    "dx = xl[2] - xl[1]\n",
    "dy = yl[2] - yl[1]\n",
    "\n",
    "x0 = xmin + (xmax - xmin) / 2\n",
    "y0 = ymin + (ymax - ymin) / 2\n",
    "\n",
    "ρ = zeros(Nx, Ny)\n",
    "uana = zeros(Nx, Ny)\n",
    "\n",
    "# alpha = 0.05 # How close the density distribution matches a delta function.\n",
    "σ = 0.05\n",
    "\n",
    "for (i, x) in enumerate(xl), (j, y) in enumerate(yl)\n",
    "    r = sqrt((x - x0)^2 + (y - y0)^2)\n",
    "\n",
    "    # ρ[i, j] = exp(-r^2 / alpha) / (alpha * π)\n",
    "    # uana[i, j] = -1 / sqrt((x - x0)^2 + (y - y0)^2)\n",
    "\n",
    "    ρ[i, j] = 1 / (σ^3 * (2π)^(3 / 2)) * exp(-r^2 / 2σ^2)\n",
    "    uana[i, j] = -1 / r * erf(r / √2σ)\n",
    "end"
   ]
  },
  {
   "cell_type": "code",
   "execution_count": 20,
   "metadata": {},
   "outputs": [],
   "source": [
    "heatmap(xl, yl, ρ)"
   ]
  },
  {
   "cell_type": "code",
   "execution_count": 45,
   "metadata": {},
   "outputs": [],
   "source": [
    "u = poisson_solve_3d(ρ, (; Nx, dx), (; Ny, dy); ϵ=10);"
   ]
  },
  {
   "cell_type": "code",
   "execution_count": 48,
   "metadata": {},
   "outputs": [],
   "source": [
    "iy = div(Ny, 2)\n",
    "\n",
    "f = lines(xl, u[:, iy], color=:blue)\n",
    "lines!(xl, uana[:, iy], color=:red)\n",
    "f"
   ]
  }
 ],
 "metadata": {
  "kernelspec": {
   "display_name": "Julia 1.10.4",
   "language": "julia",
   "name": "julia-1.10"
  },
  "language_info": {
   "file_extension": ".jl",
   "mimetype": "application/julia",
   "name": "julia",
   "version": "1.10.4"
  }
 },
 "nbformat": 4,
 "nbformat_minor": 2
}
